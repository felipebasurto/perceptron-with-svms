{
 "cells": [
  {
   "attachments": {},
   "cell_type": "markdown",
   "metadata": {},
   "source": [
    "#                       FELIPE BASURTO - 15/12/2020\n",
    "##                    https://github.com/felipebasurto"
   ]
  },
  {
   "cell_type": "code",
   "execution_count": 3,
   "metadata": {},
   "outputs": [],
   "source": [
    "# -IMPORTACIONES- \n",
    "\n",
    "\n",
    "import numpy as np  \n",
    "import os\n",
    "from libsvm import svmutil\n",
    "import sys\n",
    "from skimage.io import imread\n",
    "from libsvm.svmutil import *\n",
    "from sklearn.model_selection import cross_val_predict, train_test_split\n",
    "import matplotlib.pyplot as plt\n",
    "from sklearn.metrics import confusion_matrix\n",
    "from skimage.transform import resize\n",
    "from sklearn.neural_network import MLPClassifier\n",
    "import warnings\n",
    "import pandas as pd\n",
    "\n",
    "warnings.filterwarnings(\"ignore\")"
   ]
  },
  {
   "cell_type": "code",
   "execution_count": 4,
   "metadata": {},
   "outputs": [],
   "source": [
    "# - CARGAMOS LA BASE DE DATOS -\n",
    "\n",
    "excel_file = 'BBDD.xlsx'\n",
    "df = pd.read_excel(excel_file)\n",
    "\n",
    "# Genero otra \"matriz\" con todas las filas, pero sin las columnas de: (1) \"Número de agujeros\", y (2) \"Etiquetas/Clases\".\n",
    "x = df.drop(['Número de agujeros','Etiqueta/Clase'],axis=1)\n",
    "x = x.values\n",
    "#Ésto nos quita la primera columna, la cual nos es inservible\n",
    "x = x[:, 1:]\n",
    "\n",
    "# Como la columna de etiquetas contiene tanto números como letras, hay que transformar esta columna a una representación numérica \n",
    "# única, para que pueda ser usada por el algoritmo SVM.\n",
    "from sklearn.preprocessing import LabelEncoder\n",
    "y = df.values\n",
    "y = y[0:,258].astype(str)\n",
    "\n",
    "#Convertimos el array Y en valores numéricos\n",
    "le = LabelEncoder()\n",
    "y = le.fit_transform(y)"
   ]
  },
  {
   "cell_type": "code",
   "execution_count": 5,
   "metadata": {},
   "outputs": [],
   "source": [
    "# - FUNCIÓN EVALÚA -\n",
    "\n",
    "def evalua(Y_test, Y_pred):\n",
    "    aciertos = sum(t == p for t, p in zip(Y_test, Y_pred))\n",
    "    tam = len(Y_pred)\n",
    "    return 'Accuracy = {:.6}% ({}/{})'.format(100 * aciertos/tam, aciertos, tam)"
   ]
  },
  {
   "cell_type": "code",
   "execution_count": 6,
   "metadata": {},
   "outputs": [
    {
     "name": "stdout",
     "output_type": "stream",
     "text": [
      "-------------------------------------------------------\n",
      "Cantidad de matrices / tamaño de cada una = (2068, 256)\n",
      "Cantidad de etiquetas = (2068,)\n",
      "-------------------------------------------------------\n"
     ]
    }
   ],
   "source": [
    "print('-------------------------------------------------------')\n",
    "print('Cantidad de matrices / tamaño de cada una =',x.shape)\n",
    "print('Cantidad de etiquetas =',y.shape)\n",
    "print('-------------------------------------------------------')"
   ]
  },
  {
   "cell_type": "code",
   "execution_count": 7,
   "metadata": {},
   "outputs": [
    {
     "name": "stdout",
     "output_type": "stream",
     "text": [
      "-------------------------------------------------------\n",
      "PERCEPTRÓN MULTICAPA (SkLearn)\n",
      "-------------------------------------------------------\n"
     ]
    },
    {
     "data": {
      "text/plain": [
       "'Accuracy = 86.7955% (539/621)'"
      ]
     },
     "execution_count": 7,
     "metadata": {},
     "output_type": "execute_result"
    }
   ],
   "source": [
    "print('-------------------------------------------------------')\n",
    "print('PERCEPTRÓN MULTICAPA (SkLearn)')\n",
    "print('-------------------------------------------------------')\n",
    "X_train, X_test, Y_train, Y_test = train_test_split(x, y, stratify=y, train_size = 0.7)\n",
    "\n",
    "classifier = MLPClassifier(random_state=1)\n",
    "classifier.fit(X_train, Y_train)\n",
    "Y_pred = classifier.predict(X_test)\n",
    "evalua(Y_test, Y_pred)"
   ]
  },
  {
   "cell_type": "code",
   "execution_count": 8,
   "metadata": {},
   "outputs": [
    {
     "name": "stdout",
     "output_type": "stream",
     "text": [
      "-------------------------------------------------------\n",
      "SVM (Kernel lineal)\n",
      "-------------------------------------------------------\n",
      "Model supports probability estimates, but disabled in predicton.\n",
      "Accuracy = 98.3897% (611/621) (classification)\n",
      "\n",
      "\t\t..................\n",
      "\n",
      "-------------------------------------------------------\n",
      "SVM (Kernel polinómico)\n",
      "-------------------------------------------------------\n",
      "Model supports probability estimates, but disabled in predicton.\n",
      "Accuracy = 99.3559% (617/621) (classification)\n"
     ]
    }
   ],
   "source": [
    "print('-------------------------------------------------------')\n",
    "print('SVM (Kernel lineal)')\n",
    "print('-------------------------------------------------------')\n",
    "\n",
    "X_train_svm, X_test_svm, y_train_svm, y_test_svm = train_test_split(x, y, stratify = y, train_size = 0.7)\n",
    "\n",
    "problema = svm_problem(y_train_svm, X_train_svm)\n",
    "param = svm_parameter('-s 0 -t 0 -b 1 -c 1')\n",
    "modelo_svm = svm_train(problema, param)\n",
    "p_label, p_acc, p_val = svm_predict(y_test_svm, X_test_svm, modelo_svm)\n",
    "\n",
    "print('\\n\\t\\t..................\\n')\n",
    "\n",
    "print('-------------------------------------------------------')\n",
    "print('SVM (Kernel polinómico)')\n",
    "print('-------------------------------------------------------')\n",
    "problema = svm_problem(y_train_svm, X_train_svm)\n",
    "param = svm_parameter('-s 0 -t 1 -b 1 -c 1')\n",
    "modelo_svm = svm_train(problema, param)\n",
    "\n",
    "p_label, p_acc, p_val = svm_predict(y_test_svm, X_test_svm, modelo_svm)"
   ]
  }
 ],
 "metadata": {
  "kernelspec": {
   "display_name": "Python 3",
   "language": "python",
   "name": "python3"
  },
  "language_info": {
   "codemirror_mode": {
    "name": "ipython",
    "version": 3
   },
   "file_extension": ".py",
   "mimetype": "text/x-python",
   "name": "python",
   "nbconvert_exporter": "python",
   "pygments_lexer": "ipython3",
   "version": "3.10.1 (tags/v3.10.1:2cd268a, Dec  6 2021, 19:10:37) [MSC v.1929 64 bit (AMD64)]"
  },
  "vscode": {
   "interpreter": {
    "hash": "924e8436c0f11f7a16b2a75a4bc3351b8bc8ae3d110c30a8bf798d42973cd755"
   }
  }
 },
 "nbformat": 4,
 "nbformat_minor": 4
}
